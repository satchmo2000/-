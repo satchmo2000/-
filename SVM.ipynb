import pandas as pd
import numpy as np
from matplotlib import pyplot as plt
from sklearn import svm
from sklearn.model_selection import train_test_split
from sklearn.metrics import accuracy_score
from sklearn.preprocessing import StandardScaler


data = pd.read_csv('./zcdata/train.csv',header=0)
label = np.array(data['label'])
train = data.iloc[:,1:-1]

# 分别输出测试集x_test，标签y_test，预测结果y_pred[，标签转置，预测结果转置(lmap=True)]
# 输出到csv文件，文件名=file
def output(x_test , y_test , y_pred , lmap ,  file):
    x_test_full = pd.DataFrame(np.array(x_test))

    if not y_test is None:
        y_test_array = np.array(y_test)
        y_test_d = pd.DataFrame(y_test_array)
        x_test_full["label"] = y_test_d

    y_pred_d = pd.DataFrame(y_pred)
    x_test_full["check"] = y_pred_d.astype(np.int16)

    if lmap:
        if not y_test is None:
            x_test_full["label2"] = numarrmap_r(np.array(x_test_full["label"]) , mp_r , base = 10)
        x_test_full["check2"] = numarrmap_r(np.array(x_test_full["check"]) , mp_r , base = 10)
    x_test_full.to_csv(file)
    
d1 = np.array(data.iloc[1,1:-1])
n = len(d1)
plt.plot(abs(d1) / n)
plt.show()

yy = np.fft.fft(d1)
yy_ = yy[range(0,int(n/2))]
plt.plot(abs(yy_)/n)
plt.show()

#对数据进行傅立叶变换，使特征更明显
train2 = abs(np.fft.fft(train)[:,:3001])/6000

x_train,x_test,y_train,y_test = train_test_split(train2,label,random_state=1,test_size=0.2)

ss = StandardScaler()

x_train = ss.fit_transform(x_train)
x_test = ss.fit_transform(x_test)

clf = svm.SVC(C=1.0, kernel='linear', decision_function_shape='ovr')

clf.fit(x_train,y_train)

#print(clf.score(x_train,y_train))，等同于准确率得分
#print(clf.score(x_test,y_test))
print("训练集准确率：",accuracy_score(y_train,clf.predict(x_train)))
print("测试集准确率：",accuracy_score(y_test,clf.predict(x_test)))

data_test = pd.read_csv('./zcdata/test_data.csv',header=0)
test = data_test.iloc[:,1:]

test2 = abs(np.fft.fft(test)[:,:3001])/6000
test2 = ss.fit_transform(test2)

test_pred = clf.predict(test2)

output(test2 , None, test_pred , False, './output/x_dest_full_svm.csv')
test_pred
