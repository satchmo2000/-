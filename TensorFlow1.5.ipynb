# 分别输出测试集x_test，标签y_test，预测结果y_pred
# 输出到csv文件，文件名=file
def output(x_test , y_test , y_pred , file):
    x_test_full = pd.DataFrame(np.array(x_test))

    if not y_test is None:
        y_test_array = np.array(y_test)
        y_test_d = pd.DataFrame(y_test_array)
        x_test_full["label"] = y_test_d

    y_pred_d = pd.DataFrame(y_pred)
    x_test_full["check"] = y_pred_d.astype(np.int16)

    x_test_full.to_csv(file)
    
def multilayer_perceptron(x):
    fc1 = layers.fully_connected(x , n_hidden_1 , activation_fn = tf.nn.relu)# , scope = 'fc1-1')
    fc2 = layers.fully_connected(fc1 , n_hidden_2, activation_fn = tf.nn.relu)# , scope='fc2-1')
    out = layers.fully_connected(fc2 , n_classes, activation_fn=None)#, scope='out-1')
    return out
    
def label_split(label):
    #分类信息转置
    label2 = []
    for l in label:

        if l == 0:
            label2.append([1,0,0,0,0,0,0,0,0,0])
        elif l == 1:
            label2.append([0,1,0,0,0,0,0,0,0,0])
        elif l == 2:
            label2.append([0,0,1,0,0,0,0,0,0,0])
        elif l == 3:
            label2.append([0,0,0,1,0,0,0,0,0,0])
        elif l == 4:
            label2.append([0,0,0,0,1,0,0,0,0,0])
        elif l == 5:
            label2.append([0,0,0,0,0,1,0,0,0,0])
        elif l == 6:
            label2.append([0,0,0,0,0,0,1,0,0,0])
        elif l == 7:
            label2.append([0,0,0,0,0,0,0,1,0,0])
        elif l == 8:
            label2.append([0,0,0,0,0,0,0,0,1,0])
        elif l == 9:
            label2.append([0,0,0,0,0,0,0,0,0,1])
    label2 = np.array(label2)
    return label2
    
import pandas as pd
import numpy as np
from matplotlib import pyplot as plt
from sklearn import svm
from sklearn.model_selection import train_test_split
from sklearn.metrics import accuracy_score
from sklearn.preprocessing import StandardScaler

ss = StandardScaler()

#训练数据读取
o_train = pd.read_csv('./zcdata/train.csv',header=0)
x_data = o_train.iloc[:,1:-1]
train2 = abs(np.fft.fft(x_data)[:,:3001])/6000  #对数据进行傅立叶变换，使特征更明显

label = np.array(o_train['label'])
label2 = label_split(label) #分类信息转置

#测试数据读取（含有效结果）
o_test = pd.read_csv('./zcdata/test_data.csv',header=0)
x_tdata = o_test.iloc[:,1:]
test2 = abs(np.fft.fft(x_tdata)[:,:3001])/6000

test_label = pd.read_csv('./zcdata/test_label.csv',header=0)
x_label = np.array(test_label['label'])
x_label2 = label_split(x_label)

x_train,x_test,y_train,y_test = train_test_split(train2,label2,random_state=1,test_size=0.2)
x_train = ss.fit_transform(x_train)
x_test = ss.fit_transform(x_test)

x_test2 = ss.fit_transform(test2)

import tensorflow as tf
import tensorflow.contrib.layers as layers
from tensorflow.python import debug as tf_debug

#配置神经网络参数
n_hidden_1 = 30
n_hidden_2 = 256
n_classes = 10
n_input = 3001
eta = 0.001
max_epoch = 10

x = tf.placeholder(tf.float32 , [None, n_input], name='placeholder_x')
y = tf.placeholder(tf.float32 , [None, n_classes], name='placeholder_y')

y_hat = multilayer_perceptron(x)
pred = tf.argmax(y_hat,1)
sm = tf.nn.softmax(y_hat)
loss = tf.reduce_mean(tf.nn.softmax_cross_entropy_with_logits(logits=y_hat, labels=y))
train = tf.train.AdamOptimizer(learning_rate = eta).minimize(loss)
init = tf.global_variables_initializer()

#拟合及预测
with tf.Session() as sess:
    sess.run(init)
    for epoch in range(100):
        _, c = sess.run([train, loss], feed_dict={x: x_train, y: y_train})
        print('Epoch %02d, Loss = %.6f' % (epoch, c))
    # Test model
    correct_prediction = tf.equal(tf.argmax(y_hat, 1), tf.argmax(y,1))
    cp = correct_prediction.eval({x: x_train, y: y_train})
    accuracy = tf.reduce_mean(tf.cast(correct_prediction, tf.float32))
    print('Accuracy(Train Collection) % : ', accuracy.eval({x: x_test, y: y_test}))
    
    saver = tf.train.Saver()
    label = sess.run(pred, feed_dict={x: x_test2})
    print('Accuracy(Test Collection) % : ', accuracy.eval({x: x_test2, y: x_label2}))
    #y_hat_result = y_hat.eval({x: x_train, y: y_train})
    #sm_result = sm.eval({x: x_train, y: y_train})
    
label_sub = label - x_label
label_sub

output(tdata , None, label , './output/x_dest_full_tensorflow.csv')
